{
 "cells": [
  {
   "cell_type": "code",
   "execution_count": 1,
   "metadata": {},
   "outputs": [],
   "source": [
    "import pandas as pd \n",
    "from google.cloud import bigquery\n",
    "import json\n",
    "import requests\n"
   ]
  },
  {
   "cell_type": "code",
   "execution_count": 2,
   "metadata": {},
   "outputs": [],
   "source": [
    "def request(requested_url):\n",
    "    headers = {\n",
    "    \"cache-control\": \"no-cache\",\n",
    "    \"Postman-Token\": \"2defb9f3-9b11-499b-be4f-82505a2f8e1a\",\n",
    "    }\n",
    "    response = requests.request(\"GET\", requested_url, headers=headers)\n",
    "    return json.loads(response.text)"
   ]
  },
  {
   "cell_type": "code",
   "execution_count": 3,
   "metadata": {},
   "outputs": [
    {
     "data": {
      "text/plain": [
       "{'meta': {'build_time': '2021-06-01T07:04:31.869Z',\n",
       "  'license': 'CC-BY-4.0',\n",
       "  'version': '2.0-beta',\n",
       "  'field_definitions': [{'name': 'State code',\n",
       "    'field': 'state_code',\n",
       "    'deprecated': False,\n",
       "    'prior_names': ['state']},\n",
       "   {'name': 'COVID Tracking Project preferred total test units',\n",
       "    'field': 'covid_tracking_project.preferred_total_test.units',\n",
       "    'deprecated': False,\n",
       "    'prior_names': ['covidTrackingProjectPreferredTotalTestUnits']},\n",
       "   {'name': 'COVID Tracking Project preferred total test field',\n",
       "    'field': 'covid_tracking_project.preferred_total_test.field',\n",
       "    'deprecated': False,\n",
       "    'prior_names': ['covidTrackingProjectPreferredTotalTestField']},\n",
       "   {'name': 'State population (2019 census)',\n",
       "    'field': 'census.population',\n",
       "    'deprecated': False,\n",
       "    'prior_names': []},\n",
       "   {'name': 'Tertiary source for state COVID data',\n",
       "    'field': 'sites.tertiary',\n",
       "    'deprecated': False,\n",
       "    'prior_names': ['covid19SiteTertiary']},\n",
       "   {'name': 'Secondary source for state COVID data',\n",
       "    'field': 'sites.secondary',\n",
       "    'deprecated': False,\n",
       "    'prior_names': ['covid19SiteSecondary']},\n",
       "   {'name': 'Primary source for state COVID data',\n",
       "    'field': 'sites.primary',\n",
       "    'deprecated': False,\n",
       "    'prior_names': ['covid19Site']},\n",
       "   {'name': 'FIPS code',\n",
       "    'field': 'fips',\n",
       "    'deprecated': False,\n",
       "    'prior_names': ['fips_code']},\n",
       "   {'name': 'State (or territory)',\n",
       "    'field': 'name',\n",
       "    'deprecated': False,\n",
       "    'prior_names': ['stateName']}]},\n",
       " 'data': {'name': 'Michigan',\n",
       "  'state_code': 'MI',\n",
       "  'fips': '26',\n",
       "  'sites': [{'url': 'https://www.michigan.gov/coronavirus/0,9753,7-406-98163_98173---,00.html',\n",
       "    'label': 'primary'},\n",
       "   {'url': 'https://www.michigan.gov/coronavirus/0,9753,7-406-98159-523641--,00.html',\n",
       "    'label': 'secondary'},\n",
       "   {'url': 'https://www.michigan.gov/coronavirus/0,9753,7-406-98163_98173-531113--,00.html',\n",
       "    'label': 'tertiary'},\n",
       "   {'url': 'https://app.powerbigov.us/view?r=eyJrIjoiNDY0ZGVlMDItMzUzNC00ZGE5LWFjYzQtNzliOGJkZWQ4YTgzIiwidCI6ImQ1ZmI3MDg3LTM3NzctNDJhZC05NjZhLTg5MmVmNDcyMjVkMSJ9',\n",
       "    'label': 'quaternary'}],\n",
       "  'census': {'population': 9965265},\n",
       "  'field_sources': {'tests': {'pcr': {'total': 'Total Tests (PCR)'}}},\n",
       "  'covid_tracking_project': {'preferred_total_test': {'field': 'totalTestsViral',\n",
       "    'units': 'Specimens'}}}}"
      ]
     },
     "execution_count": 3,
     "metadata": {},
     "output_type": "execute_result"
    }
   ],
   "source": [
    "request('https://api.covidtracking.com/v2/states/mi.json')"
   ]
  },
  {
   "cell_type": "code",
   "execution_count": 4,
   "metadata": {},
   "outputs": [],
   "source": [
    "#se utilizara SQL en vez de API\n",
    "#base utilizada bigquery-public-data.covid19_jhu_csse\n",
    "client = bigquery.Client()\n",
    "dataset_ref = client.dataset(\"covid19_open_data\", project=\"bigquery-public-data\")\n",
    "#cambio de base a bigquery-public-data.covid19_open_data\n",
    "\n",
    "dataset = client.get_dataset(dataset_ref)"
   ]
  },
  {
   "cell_type": "code",
   "execution_count": 5,
   "metadata": {},
   "outputs": [],
   "source": [
    "query = \"\"\"\n",
    "        SELECT distinct date, opulation_male\n",
    "        FROM bigquery-public-data.covid19_open_data.covid19_open_data\n",
    "        WHERE country_name = 'Chile'\n",
    "        \"\"\"\n",
    "\n",
    "#realizamos un query en el cual se extraen los datos de fecha y casos nuevos confirmados solo para Chile."
   ]
  },
  {
   "cell_type": "code",
   "execution_count": 6,
   "metadata": {},
   "outputs": [
    {
     "data": {
      "text/html": [
       "<div>\n",
       "<style scoped>\n",
       "    .dataframe tbody tr th:only-of-type {\n",
       "        vertical-align: middle;\n",
       "    }\n",
       "\n",
       "    .dataframe tbody tr th {\n",
       "        vertical-align: top;\n",
       "    }\n",
       "\n",
       "    .dataframe thead th {\n",
       "        text-align: right;\n",
       "    }\n",
       "</style>\n",
       "<table border=\"1\" class=\"dataframe\">\n",
       "  <thead>\n",
       "    <tr style=\"text-align: right;\">\n",
       "      <th></th>\n",
       "      <th>date</th>\n",
       "      <th>new_confirmed</th>\n",
       "    </tr>\n",
       "  </thead>\n",
       "  <tbody>\n",
       "    <tr>\n",
       "      <th>0</th>\n",
       "      <td>2020-12-24</td>\n",
       "      <td>68</td>\n",
       "    </tr>\n",
       "    <tr>\n",
       "      <th>1</th>\n",
       "      <td>2022-05-14</td>\n",
       "      <td>119</td>\n",
       "    </tr>\n",
       "    <tr>\n",
       "      <th>2</th>\n",
       "      <td>2021-02-26</td>\n",
       "      <td>448</td>\n",
       "    </tr>\n",
       "    <tr>\n",
       "      <th>3</th>\n",
       "      <td>2021-03-23</td>\n",
       "      <td>631</td>\n",
       "    </tr>\n",
       "    <tr>\n",
       "      <th>4</th>\n",
       "      <td>2021-11-07</td>\n",
       "      <td>88</td>\n",
       "    </tr>\n",
       "    <tr>\n",
       "      <th>...</th>\n",
       "      <td>...</td>\n",
       "      <td>...</td>\n",
       "    </tr>\n",
       "    <tr>\n",
       "      <th>41219</th>\n",
       "      <td>2021-09-06</td>\n",
       "      <td>51</td>\n",
       "    </tr>\n",
       "    <tr>\n",
       "      <th>41220</th>\n",
       "      <td>2020-12-18</td>\n",
       "      <td>51</td>\n",
       "    </tr>\n",
       "    <tr>\n",
       "      <th>41221</th>\n",
       "      <td>2021-11-22</td>\n",
       "      <td>51</td>\n",
       "    </tr>\n",
       "    <tr>\n",
       "      <th>41222</th>\n",
       "      <td>2022-03-07</td>\n",
       "      <td>51</td>\n",
       "    </tr>\n",
       "    <tr>\n",
       "      <th>41223</th>\n",
       "      <td>2020-04-24</td>\n",
       "      <td>51</td>\n",
       "    </tr>\n",
       "  </tbody>\n",
       "</table>\n",
       "<p>41224 rows × 2 columns</p>\n",
       "</div>"
      ],
      "text/plain": [
       "             date  new_confirmed\n",
       "0      2020-12-24             68\n",
       "1      2022-05-14            119\n",
       "2      2021-02-26            448\n",
       "3      2021-03-23            631\n",
       "4      2021-11-07             88\n",
       "...           ...            ...\n",
       "41219  2021-09-06             51\n",
       "41220  2020-12-18             51\n",
       "41221  2021-11-22             51\n",
       "41222  2022-03-07             51\n",
       "41223  2020-04-24             51\n",
       "\n",
       "[41224 rows x 2 columns]"
      ]
     },
     "execution_count": 6,
     "metadata": {},
     "output_type": "execute_result"
    }
   ],
   "source": [
    "query_job = client.query(query)\n",
    "chilean_cases = query_job.to_dataframe()\n",
    "chilean_cases"
   ]
  },
  {
   "cell_type": "code",
   "execution_count": 7,
   "metadata": {},
   "outputs": [],
   "source": [
    "#Podemos observar que los datos en la tablas estan desordenados asi que lo siguiente por hacer es ordenar estos mismos por la fecha."
   ]
  },
  {
   "cell_type": "code",
   "execution_count": 8,
   "metadata": {},
   "outputs": [
    {
     "data": {
      "text/html": [
       "<div>\n",
       "<style scoped>\n",
       "    .dataframe tbody tr th:only-of-type {\n",
       "        vertical-align: middle;\n",
       "    }\n",
       "\n",
       "    .dataframe tbody tr th {\n",
       "        vertical-align: top;\n",
       "    }\n",
       "\n",
       "    .dataframe thead th {\n",
       "        text-align: right;\n",
       "    }\n",
       "</style>\n",
       "<table border=\"1\" class=\"dataframe\">\n",
       "  <thead>\n",
       "    <tr style=\"text-align: right;\">\n",
       "      <th></th>\n",
       "      <th>date</th>\n",
       "      <th>new_confirmed</th>\n",
       "    </tr>\n",
       "  </thead>\n",
       "  <tbody>\n",
       "    <tr>\n",
       "      <th>0</th>\n",
       "      <td>2020-01-01</td>\n",
       "      <td>0</td>\n",
       "    </tr>\n",
       "    <tr>\n",
       "      <th>1</th>\n",
       "      <td>2020-01-02</td>\n",
       "      <td>0</td>\n",
       "    </tr>\n",
       "    <tr>\n",
       "      <th>2</th>\n",
       "      <td>2020-01-03</td>\n",
       "      <td>0</td>\n",
       "    </tr>\n",
       "    <tr>\n",
       "      <th>3</th>\n",
       "      <td>2020-01-04</td>\n",
       "      <td>0</td>\n",
       "    </tr>\n",
       "    <tr>\n",
       "      <th>4</th>\n",
       "      <td>2020-01-05</td>\n",
       "      <td>0</td>\n",
       "    </tr>\n",
       "    <tr>\n",
       "      <th>...</th>\n",
       "      <td>...</td>\n",
       "      <td>...</td>\n",
       "    </tr>\n",
       "    <tr>\n",
       "      <th>40485</th>\n",
       "      <td>2022-09-13</td>\n",
       "      <td>62</td>\n",
       "    </tr>\n",
       "    <tr>\n",
       "      <th>40486</th>\n",
       "      <td>2022-09-13</td>\n",
       "      <td>89</td>\n",
       "    </tr>\n",
       "    <tr>\n",
       "      <th>40487</th>\n",
       "      <td>2022-09-13</td>\n",
       "      <td>39</td>\n",
       "    </tr>\n",
       "    <tr>\n",
       "      <th>40488</th>\n",
       "      <td>2022-09-13</td>\n",
       "      <td>203</td>\n",
       "    </tr>\n",
       "    <tr>\n",
       "      <th>40489</th>\n",
       "      <td>2022-09-13</td>\n",
       "      <td>1906</td>\n",
       "    </tr>\n",
       "  </tbody>\n",
       "</table>\n",
       "<p>40490 rows × 2 columns</p>\n",
       "</div>"
      ],
      "text/plain": [
       "             date  new_confirmed\n",
       "0      2020-01-01              0\n",
       "1      2020-01-02              0\n",
       "2      2020-01-03              0\n",
       "3      2020-01-04              0\n",
       "4      2020-01-05              0\n",
       "...           ...            ...\n",
       "40485  2022-09-13             62\n",
       "40486  2022-09-13             89\n",
       "40487  2022-09-13             39\n",
       "40488  2022-09-13            203\n",
       "40489  2022-09-13           1906\n",
       "\n",
       "[40490 rows x 2 columns]"
      ]
     },
     "execution_count": 8,
     "metadata": {},
     "output_type": "execute_result"
    }
   ],
   "source": [
    "chilean_cases = chilean_cases.dropna().sort_values('date').reset_index(drop=True)\n",
    "chilean_cases"
   ]
  },
  {
   "cell_type": "code",
   "execution_count": 9,
   "metadata": {},
   "outputs": [
    {
     "data": {
      "text/html": [
       "<div>\n",
       "<style scoped>\n",
       "    .dataframe tbody tr th:only-of-type {\n",
       "        vertical-align: middle;\n",
       "    }\n",
       "\n",
       "    .dataframe tbody tr th {\n",
       "        vertical-align: top;\n",
       "    }\n",
       "\n",
       "    .dataframe thead th {\n",
       "        text-align: right;\n",
       "    }\n",
       "</style>\n",
       "<table border=\"1\" class=\"dataframe\">\n",
       "  <thead>\n",
       "    <tr style=\"text-align: right;\">\n",
       "      <th></th>\n",
       "      <th>new_confirmed</th>\n",
       "    </tr>\n",
       "    <tr>\n",
       "      <th>date</th>\n",
       "      <th></th>\n",
       "    </tr>\n",
       "  </thead>\n",
       "  <tbody>\n",
       "    <tr>\n",
       "      <th>2020-01-01</th>\n",
       "      <td>0</td>\n",
       "    </tr>\n",
       "    <tr>\n",
       "      <th>2020-01-02</th>\n",
       "      <td>0</td>\n",
       "    </tr>\n",
       "    <tr>\n",
       "      <th>2020-01-03</th>\n",
       "      <td>0</td>\n",
       "    </tr>\n",
       "    <tr>\n",
       "      <th>2020-01-04</th>\n",
       "      <td>0</td>\n",
       "    </tr>\n",
       "    <tr>\n",
       "      <th>2020-01-05</th>\n",
       "      <td>0</td>\n",
       "    </tr>\n",
       "    <tr>\n",
       "      <th>...</th>\n",
       "      <td>...</td>\n",
       "    </tr>\n",
       "    <tr>\n",
       "      <th>2022-09-09</th>\n",
       "      <td>24044</td>\n",
       "    </tr>\n",
       "    <tr>\n",
       "      <th>2022-09-10</th>\n",
       "      <td>8726</td>\n",
       "    </tr>\n",
       "    <tr>\n",
       "      <th>2022-09-11</th>\n",
       "      <td>7722</td>\n",
       "    </tr>\n",
       "    <tr>\n",
       "      <th>2022-09-12</th>\n",
       "      <td>12215</td>\n",
       "    </tr>\n",
       "    <tr>\n",
       "      <th>2022-09-13</th>\n",
       "      <td>3742</td>\n",
       "    </tr>\n",
       "  </tbody>\n",
       "</table>\n",
       "<p>987 rows × 1 columns</p>\n",
       "</div>"
      ],
      "text/plain": [
       "            new_confirmed\n",
       "date                     \n",
       "2020-01-01              0\n",
       "2020-01-02              0\n",
       "2020-01-03              0\n",
       "2020-01-04              0\n",
       "2020-01-05              0\n",
       "...                   ...\n",
       "2022-09-09          24044\n",
       "2022-09-10           8726\n",
       "2022-09-11           7722\n",
       "2022-09-12          12215\n",
       "2022-09-13           3742\n",
       "\n",
       "[987 rows x 1 columns]"
      ]
     },
     "execution_count": 9,
     "metadata": {},
     "output_type": "execute_result"
    }
   ],
   "source": [
    "#al ordenar los datos podemos observar que se tienen dupplicados en las fechas, por que al discutir con el profersor se realiza una corrección.\n",
    "chilean_cases.groupby(\"date\").agg(\"sum\")"
   ]
  },
  {
   "cell_type": "code",
   "execution_count": 10,
   "metadata": {},
   "outputs": [
    {
     "data": {
      "text/plain": [
       "<Axes: title={'center': 'chilean cases'}, xlabel='date', ylabel='n° de casos'>"
      ]
     },
     "execution_count": 10,
     "metadata": {},
     "output_type": "execute_result"
    },
    {
     "data": {
      "image/png": "[encoded data removed]",
      "text/plain": [
       "<Figure size 640x480 with 1 Axes>"
      ]
     },
     "metadata": {},
     "output_type": "display_data"
    }
   ],
   "source": [
    "#Ya teniendo todos los datos necesarios en regla se procede a graficar y analizar.\n",
    "chilean_cases.set_index('date').plot(title = \"chilean cases\", ylabel = \"n° de casos\")"
   ]
  },
  {
   "cell_type": "code",
   "execution_count": 11,
   "metadata": {},
   "outputs": [],
   "source": [
    "#Luego de graficar se puede observar que los casos aumentan y disminuyen con el tiempo pero entre enero y mayo del año 2022 hubo un peak considerable de casos nuevos."
   ]
  },
  {
   "cell_type": "markdown",
   "metadata": {},
   "source": [
    "<img src=https://upload.wikimedia.org/wikipedia/commons/thumb/3/39/COVID-19-Chile-log.svg/langes-500px-COVID-19-Chile-log.svg.png>\n"
   ]
  },
  {
   "cell_type": "code",
   "execution_count": 12,
   "metadata": {},
   "outputs": [],
   "source": [
    "#Podemos observar una concordancia entre los casos nuevos entre ambas graficas."
   ]
  },
  {
   "cell_type": "code",
   "execution_count": 13,
   "metadata": {},
   "outputs": [],
   "source": [
    "#Se realiza el proceso analogo al anterior pero esta vez queremos estudiar las defunciones, segun la fecha, para Chile.\n",
    "query = \"\"\"\n",
    "        SELECT distinct date, new_deceased\n",
    "        FROM bigquery-public-data.covid19_open_data.covid19_open_data\n",
    "        WHERE country_name = 'Chile'\n",
    "        \"\"\"\n",
    "\n",
    "query_job = client.query(query)\n",
    "chilean_deaths = query_job.to_dataframe()"
   ]
  },
  {
   "cell_type": "code",
   "execution_count": 30,
   "metadata": {},
   "outputs": [
    {
     "data": {
      "text/html": [
       "<div>\n",
       "<style scoped>\n",
       "    .dataframe tbody tr th:only-of-type {\n",
       "        vertical-align: middle;\n",
       "    }\n",
       "\n",
       "    .dataframe tbody tr th {\n",
       "        vertical-align: top;\n",
       "    }\n",
       "\n",
       "    .dataframe thead th {\n",
       "        text-align: right;\n",
       "    }\n",
       "</style>\n",
       "<table border=\"1\" class=\"dataframe\">\n",
       "  <thead>\n",
       "    <tr style=\"text-align: right;\">\n",
       "      <th></th>\n",
       "      <th>date</th>\n",
       "      <th>new_deceased</th>\n",
       "    </tr>\n",
       "  </thead>\n",
       "  <tbody>\n",
       "    <tr>\n",
       "      <th>0</th>\n",
       "      <td>2020-01-01</td>\n",
       "      <td>0</td>\n",
       "    </tr>\n",
       "    <tr>\n",
       "      <th>1</th>\n",
       "      <td>2020-01-02</td>\n",
       "      <td>0</td>\n",
       "    </tr>\n",
       "    <tr>\n",
       "      <th>2</th>\n",
       "      <td>2020-01-03</td>\n",
       "      <td>0</td>\n",
       "    </tr>\n",
       "    <tr>\n",
       "      <th>3</th>\n",
       "      <td>2020-01-04</td>\n",
       "      <td>0</td>\n",
       "    </tr>\n",
       "    <tr>\n",
       "      <th>4</th>\n",
       "      <td>2020-01-05</td>\n",
       "      <td>0</td>\n",
       "    </tr>\n",
       "    <tr>\n",
       "      <th>...</th>\n",
       "      <td>...</td>\n",
       "      <td>...</td>\n",
       "    </tr>\n",
       "    <tr>\n",
       "      <th>7562</th>\n",
       "      <td>2022-09-12</td>\n",
       "      <td>4</td>\n",
       "    </tr>\n",
       "    <tr>\n",
       "      <th>7563</th>\n",
       "      <td>2022-09-13</td>\n",
       "      <td>8</td>\n",
       "    </tr>\n",
       "    <tr>\n",
       "      <th>7564</th>\n",
       "      <td>2022-09-13</td>\n",
       "      <td>10</td>\n",
       "    </tr>\n",
       "    <tr>\n",
       "      <th>7565</th>\n",
       "      <td>2022-09-13</td>\n",
       "      <td>0</td>\n",
       "    </tr>\n",
       "    <tr>\n",
       "      <th>7566</th>\n",
       "      <td>2022-09-13</td>\n",
       "      <td>2</td>\n",
       "    </tr>\n",
       "  </tbody>\n",
       "</table>\n",
       "<p>7567 rows × 2 columns</p>\n",
       "</div>"
      ],
      "text/plain": [
       "            date  new_deceased\n",
       "0     2020-01-01             0\n",
       "1     2020-01-02             0\n",
       "2     2020-01-03             0\n",
       "3     2020-01-04             0\n",
       "4     2020-01-05             0\n",
       "...          ...           ...\n",
       "7562  2022-09-12             4\n",
       "7563  2022-09-13             8\n",
       "7564  2022-09-13            10\n",
       "7565  2022-09-13             0\n",
       "7566  2022-09-13             2\n",
       "\n",
       "[7567 rows x 2 columns]"
      ]
     },
     "execution_count": 30,
     "metadata": {},
     "output_type": "execute_result"
    }
   ],
   "source": [
    "chilean_deaths = chilean_deaths.dropna().sort_values('date').reset_index(drop=True)\n",
    "chilean_deaths.groupby(\"date\").agg(\"sum\")\n",
    "chilean_deaths"
   ]
  },
  {
   "cell_type": "code",
   "execution_count": 15,
   "metadata": {},
   "outputs": [
    {
     "data": {
      "text/plain": [
       "<Axes: title={'center': 'chilean deaths'}, xlabel='date', ylabel='n° de muertes'>"
      ]
     },
     "execution_count": 15,
     "metadata": {},
     "output_type": "execute_result"
    },
    {
     "data": {
      "image/png": "[encoded data removed]",
      "text/plain": [
       "<Figure size 640x480 with 1 Axes>"
      ]
     },
     "metadata": {},
     "output_type": "display_data"
    }
   ],
   "source": [
    "chilean_deaths.set_index('date').plot(title = \"chilean deaths\", ylabel = \"n° de muertes\")"
   ]
  },
  {
   "cell_type": "code",
   "execution_count": 16,
   "metadata": {},
   "outputs": [],
   "source": [
    "#Podemos observar que en una fecha similar a como sucedió en los nuevos casos, se tiene un peak entre enero y mayo del año 2022, aunque el comportamiento de la gráfica es un tanto raro debido al peak tan abrupto."
   ]
  },
  {
   "cell_type": "markdown",
   "metadata": {},
   "source": [
    "<img src=https://upload.wikimedia.org/wikipedia/commons/thumb/3/39/COVID-19-Chile-log.svg/langes-500px-COVID-19-Chile-log.svg.png>\n"
   ]
  },
  {
   "cell_type": "code",
   "execution_count": 17,
   "metadata": {},
   "outputs": [],
   "source": [
    "#Nuevamente podemos ver una relación entre los casos de muertes entre ambas gráficas."
   ]
  },
  {
   "cell_type": "code",
   "execution_count": 34,
   "metadata": {},
   "outputs": [],
   "source": [
    "query = \"\"\"\n",
    "        SELECT distinct date, school_closing\n",
    "        FROM bigquery-public-data.covid19_open_data.covid19_open_data\n",
    "        WHERE country_name = 'Chile'\n",
    "        \"\"\"\n",
    "\n",
    "query_job = client.query(query)\n",
    "school_closing = query_job.to_dataframe()"
   ]
  },
  {
   "cell_type": "code",
   "execution_count": 35,
   "metadata": {},
   "outputs": [
    {
     "data": {
      "text/html": [
       "<div>\n",
       "<style scoped>\n",
       "    .dataframe tbody tr th:only-of-type {\n",
       "        vertical-align: middle;\n",
       "    }\n",
       "\n",
       "    .dataframe tbody tr th {\n",
       "        vertical-align: top;\n",
       "    }\n",
       "\n",
       "    .dataframe thead th {\n",
       "        text-align: right;\n",
       "    }\n",
       "</style>\n",
       "<table border=\"1\" class=\"dataframe\">\n",
       "  <thead>\n",
       "    <tr style=\"text-align: right;\">\n",
       "      <th></th>\n",
       "      <th>date</th>\n",
       "      <th>school_closing</th>\n",
       "    </tr>\n",
       "  </thead>\n",
       "  <tbody>\n",
       "    <tr>\n",
       "      <th>0</th>\n",
       "      <td>2020-01-01</td>\n",
       "      <td>0</td>\n",
       "    </tr>\n",
       "    <tr>\n",
       "      <th>1</th>\n",
       "      <td>2020-01-02</td>\n",
       "      <td>0</td>\n",
       "    </tr>\n",
       "    <tr>\n",
       "      <th>2</th>\n",
       "      <td>2020-01-03</td>\n",
       "      <td>0</td>\n",
       "    </tr>\n",
       "    <tr>\n",
       "      <th>3</th>\n",
       "      <td>2020-01-04</td>\n",
       "      <td>0</td>\n",
       "    </tr>\n",
       "    <tr>\n",
       "      <th>4</th>\n",
       "      <td>2020-01-05</td>\n",
       "      <td>0</td>\n",
       "    </tr>\n",
       "    <tr>\n",
       "      <th>...</th>\n",
       "      <td>...</td>\n",
       "      <td>...</td>\n",
       "    </tr>\n",
       "    <tr>\n",
       "      <th>924</th>\n",
       "      <td>2022-07-13</td>\n",
       "      <td>1</td>\n",
       "    </tr>\n",
       "    <tr>\n",
       "      <th>925</th>\n",
       "      <td>2022-07-14</td>\n",
       "      <td>1</td>\n",
       "    </tr>\n",
       "    <tr>\n",
       "      <th>926</th>\n",
       "      <td>2022-07-15</td>\n",
       "      <td>1</td>\n",
       "    </tr>\n",
       "    <tr>\n",
       "      <th>927</th>\n",
       "      <td>2022-07-16</td>\n",
       "      <td>1</td>\n",
       "    </tr>\n",
       "    <tr>\n",
       "      <th>928</th>\n",
       "      <td>2022-07-17</td>\n",
       "      <td>1</td>\n",
       "    </tr>\n",
       "  </tbody>\n",
       "</table>\n",
       "<p>929 rows × 2 columns</p>\n",
       "</div>"
      ],
      "text/plain": [
       "           date  school_closing\n",
       "0    2020-01-01               0\n",
       "1    2020-01-02               0\n",
       "2    2020-01-03               0\n",
       "3    2020-01-04               0\n",
       "4    2020-01-05               0\n",
       "..          ...             ...\n",
       "924  2022-07-13               1\n",
       "925  2022-07-14               1\n",
       "926  2022-07-15               1\n",
       "927  2022-07-16               1\n",
       "928  2022-07-17               1\n",
       "\n",
       "[929 rows x 2 columns]"
      ]
     },
     "execution_count": 35,
     "metadata": {},
     "output_type": "execute_result"
    }
   ],
   "source": [
    "school_closing = school_closing.dropna().sort_values('date').reset_index(drop=True)\n",
    "school_closing.groupby(\"date\").agg(\"sum\")\n",
    "school_closing"
   ]
  },
  {
   "cell_type": "code",
   "execution_count": 38,
   "metadata": {},
   "outputs": [
    {
     "data": {
      "text/plain": [
       "<Axes: title={'center': 'schools closing'}, xlabel='date', ylabel='n° de escuelas cerradas'>"
      ]
     },
     "execution_count": 38,
     "metadata": {},
     "output_type": "execute_result"
    },
    {
     "data": {
      "image/png": "[encoded data removed]",
      "text/plain": [
       "<Figure size 640x480 with 1 Axes>"
      ]
     },
     "metadata": {},
     "output_type": "display_data"
    }
   ],
   "source": [
    "school_closing.set_index('date').plot(title = \"schools closing\", ylabel = \"n° de escuelas cerradas\")"
   ]
  },
  {
   "cell_type": "code",
   "execution_count": null,
   "metadata": {},
   "outputs": [],
   "source": [
    "#se puede observar como en un comienzo no se ve un mayor cambio pero poco despues se ve el incremento en escuelas que CERRARON debido a los contagios de covid-19, pero que con el tiempo y regularizacion de los casos se comenzaron a reanudar las actividades en estos. (la cantidad de instituciones obtenidas no es reflejada con la realidad puesto que muchas mas instituciones deberieron de haber cerrrado sus puertas)"
   ]
  },
  {
   "cell_type": "code",
   "execution_count": 39,
   "metadata": {},
   "outputs": [],
   "source": [
    "query = \"\"\"\n",
    "        SELECT distinct date, workplace_closing\n",
    "        FROM bigquery-public-data.covid19_open_data.covid19_open_data\n",
    "        WHERE country_name = 'Chile'\n",
    "        \"\"\"\n",
    "\n",
    "query_job = client.query(query)\n",
    "workplace_closing = query_job.to_dataframe()"
   ]
  },
  {
   "cell_type": "code",
   "execution_count": 40,
   "metadata": {},
   "outputs": [
    {
     "data": {
      "text/html": [
       "<div>\n",
       "<style scoped>\n",
       "    .dataframe tbody tr th:only-of-type {\n",
       "        vertical-align: middle;\n",
       "    }\n",
       "\n",
       "    .dataframe tbody tr th {\n",
       "        vertical-align: top;\n",
       "    }\n",
       "\n",
       "    .dataframe thead th {\n",
       "        text-align: right;\n",
       "    }\n",
       "</style>\n",
       "<table border=\"1\" class=\"dataframe\">\n",
       "  <thead>\n",
       "    <tr style=\"text-align: right;\">\n",
       "      <th></th>\n",
       "      <th>date</th>\n",
       "      <th>workplace_closing</th>\n",
       "    </tr>\n",
       "  </thead>\n",
       "  <tbody>\n",
       "    <tr>\n",
       "      <th>0</th>\n",
       "      <td>2020-01-01</td>\n",
       "      <td>0</td>\n",
       "    </tr>\n",
       "    <tr>\n",
       "      <th>1</th>\n",
       "      <td>2020-01-02</td>\n",
       "      <td>0</td>\n",
       "    </tr>\n",
       "    <tr>\n",
       "      <th>2</th>\n",
       "      <td>2020-01-03</td>\n",
       "      <td>0</td>\n",
       "    </tr>\n",
       "    <tr>\n",
       "      <th>3</th>\n",
       "      <td>2020-01-04</td>\n",
       "      <td>0</td>\n",
       "    </tr>\n",
       "    <tr>\n",
       "      <th>4</th>\n",
       "      <td>2020-01-05</td>\n",
       "      <td>0</td>\n",
       "    </tr>\n",
       "    <tr>\n",
       "      <th>...</th>\n",
       "      <td>...</td>\n",
       "      <td>...</td>\n",
       "    </tr>\n",
       "    <tr>\n",
       "      <th>933</th>\n",
       "      <td>2022-07-22</td>\n",
       "      <td>3</td>\n",
       "    </tr>\n",
       "    <tr>\n",
       "      <th>934</th>\n",
       "      <td>2022-07-23</td>\n",
       "      <td>3</td>\n",
       "    </tr>\n",
       "    <tr>\n",
       "      <th>935</th>\n",
       "      <td>2022-07-24</td>\n",
       "      <td>3</td>\n",
       "    </tr>\n",
       "    <tr>\n",
       "      <th>936</th>\n",
       "      <td>2022-07-25</td>\n",
       "      <td>3</td>\n",
       "    </tr>\n",
       "    <tr>\n",
       "      <th>937</th>\n",
       "      <td>2022-07-26</td>\n",
       "      <td>3</td>\n",
       "    </tr>\n",
       "  </tbody>\n",
       "</table>\n",
       "<p>938 rows × 2 columns</p>\n",
       "</div>"
      ],
      "text/plain": [
       "           date  workplace_closing\n",
       "0    2020-01-01                  0\n",
       "1    2020-01-02                  0\n",
       "2    2020-01-03                  0\n",
       "3    2020-01-04                  0\n",
       "4    2020-01-05                  0\n",
       "..          ...                ...\n",
       "933  2022-07-22                  3\n",
       "934  2022-07-23                  3\n",
       "935  2022-07-24                  3\n",
       "936  2022-07-25                  3\n",
       "937  2022-07-26                  3\n",
       "\n",
       "[938 rows x 2 columns]"
      ]
     },
     "execution_count": 40,
     "metadata": {},
     "output_type": "execute_result"
    }
   ],
   "source": [
    "workplace_closing = workplace_closing.dropna().sort_values('date').reset_index(drop=True)\n",
    "workplace_closing.groupby(\"date\").agg(\"sum\")\n",
    "workplace_closing"
   ]
  },
  {
   "cell_type": "code",
   "execution_count": 41,
   "metadata": {},
   "outputs": [
    {
     "data": {
      "text/plain": [
       "<Axes: title={'center': 'workplaces closing'}, xlabel='date', ylabel='n° de lugares de trabajo cerrados'>"
      ]
     },
     "execution_count": 41,
     "metadata": {},
     "output_type": "execute_result"
    },
    {
     "data": {
      "image/png": "[encoded data removed]",
      "text/plain": [
       "<Figure size 640x480 with 1 Axes>"
      ]
     },
     "metadata": {},
     "output_type": "display_data"
    }
   ],
   "source": [
    "workplace_closing.set_index('date').plot(title = \"workplaces closing\", ylabel = \"n° de lugares de trabajo cerrados\")"
   ]
  },
  {
   "cell_type": "code",
   "execution_count": null,
   "metadata": {},
   "outputs": [],
   "source": [
    "#como se puede observar la cantidad de instituciones de trabajo que CERRARON sus puertas aumenta y se mantiene con el tiempo hasta mediados del año 2022, en este caso este comportamiento debe ser debido a la implementación del trabajo remoto en las instituciones, a diferencia de las instituciones de estudio que se buscaba regresar a las clases presenciales."
   ]
  }
 ],
 "metadata": {
  "kernelspec": {
   "display_name": "Python 3",
   "language": "python",
   "name": "python3"
  },
  "language_info": {
   "codemirror_mode": {
    "name": "ipython",
    "version": 3
   },
   "file_extension": ".py",
   "mimetype": "text/x-python",
   "name": "python",
   "nbconvert_exporter": "python",
   "pygments_lexer": "ipython3",
   "version": "3.11.9"
  }
 },
 "nbformat": 4,
 "nbformat_minor": 2
}
