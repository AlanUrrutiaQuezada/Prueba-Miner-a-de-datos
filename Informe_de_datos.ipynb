{
 "cells": [
  {
   "cell_type": "markdown",
   "metadata": {},
   "source": [
    "Análisis de datos:\n",
    "    Para el apartado de análisis de datos, se extrajo la tabla de \"confirmed_cases\" de la base \"bigquery-public-data.covid19_jhu_csse\", la cual, posteriormente fue cambiada a una base diferente debido a complicaciones en la manipulación de la misma.\n",
    "    La nueva base utilizada es \"bigquery-public-data.covid19_open_data\", utilizando la tabla \"covid19_open_data\", en la cual nos centralizaremos específicamente en las columnas de \"time\", \"new_confirmed\" y \"new_decesed\".\n",
    "    Luego de ya tener las tablas cargadas y ordenas (por fecha, de manera ascendente), se procede a graficar cada tabla por separado.\n",
    "    Por una parte se tendrá una gráfica de los casos nuevos y la fecha, y por otro lado se tendrá la gráfica de nuevas defunciones y la fecha.\n",
    "    \n",
    "<img src=output.png>\n",
    "<img src=output2.png>\n",
    "    \n",
    "    Comparación de las gráficas obtenidas con una imagen de referencia obtenida de internet.\n",
    "    \n",
    "<img src=https://upload.wikimedia.org/wikipedia/commons/thumb/3/39/COVID-19-Chile-log.svg/langes-500px-COVID-19-Chile-log.svg.png>\n",
    "\n",
    "Como se puede observar en las gráficas, los puntos mas fuertes (o peaks), en ambas se muestran entre los mese de enero y mayo del año 2022, esto se puede comparar y corroborar con una gráfica tomada de internet, puesto que, para los números de los nuevos casos confirmados rondan en los 40000 entre ambas, aunque, por parte de los nuevos fallecidos, los numeros obtenidos muestran que rondadan los 12000 casos, mientras que en el caso de la imagen de referencia estos son cercanos a los 2000. \n",
    "\n",
    "<img src=output3.png>\n",
    "<img src=output4.png>\n",
    "\n",
    "Como se puede observar en las gráficas las repercuciones en el ámbito laboral se mantuvieron en el \"cierre\" de las instituciones y esto debido mayormente en la implementación del trabajo remoto para los trabajadores, no asi como el caso de las instituciones de educación que buscaron el regreso de las clases presenciales antes que las clases online. \n",
    "\n",
    "Conlusiones:\n",
    "    Como se pudo observar en las gráficas obtenidas, los resultados para los casos confirmados concuerda, pero para el caso de fallecidos no, estos cambios de numeros pueden deberse a alguna filtración mal realizada al momento de trabajar y manipular los datos, además de las repercuciones que tuvo estas mismas estadisticas en el ámbito educacional y laboral que pese a que las instituciones de estudio optaron por el regreso a clases normales no fue el caso para las instituciones laborales que optaron por otras medidas como lo es el trabajo remoto. \n",
    "    "
   ]
  },
  {
   "cell_type": "markdown",
   "metadata": {},
   "source": []
  }
 ],
 "metadata": {
  "kernelspec": {
   "display_name": "Python 3",
   "language": "python",
   "name": "python3"
  },
  "language_info": {
   "name": "python",
   "version": "3.11.9"
  }
 },
 "nbformat": 4,
 "nbformat_minor": 2
}
